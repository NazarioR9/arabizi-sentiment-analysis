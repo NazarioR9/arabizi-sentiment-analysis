{
  "nbformat": 4,
  "nbformat_minor": 0,
  "metadata": {
    "colab": {
      "name": "AI4D_RobertaBase.ipynb",
      "provenance": [],
      "collapsed_sections": [
        "xl9mxRf-5dtO",
        "Rcv11dB4LEvh",
        "rBaG1N9HLHvL",
        "twspBWOgMkl6",
        "8yWBHsRJOw11",
        "QRcYdgdALv11",
        "Ezi5pDAuG70q",
        "RqboeokFM5Hd"
      ],
      "toc_visible": true
    },
    "kernelspec": {
      "name": "python3",
      "display_name": "Python 3"
    },
    "accelerator": "GPU",
    "widgets": {
      "application/vnd.jupyter.widget-state+json": {
        "bc6c7606b1924e1cb8b68108c0fcebba": {
          "model_module": "@jupyter-widgets/controls",
          "model_name": "HBoxModel",
          "state": {
            "_view_name": "HBoxView",
            "_dom_classes": [],
            "_model_name": "HBoxModel",
            "_view_module": "@jupyter-widgets/controls",
            "_model_module_version": "1.5.0",
            "_view_count": null,
            "_view_module_version": "1.5.0",
            "box_style": "",
            "layout": "IPY_MODEL_86f16456b9f5423caefae2d36f96edef",
            "_model_module": "@jupyter-widgets/controls",
            "children": [
              "IPY_MODEL_c3817db490c04da9a9d2ab68ab1f7060",
              "IPY_MODEL_4c247988c42f4a5c84e717d73927b9ce"
            ]
          }
        },
        "86f16456b9f5423caefae2d36f96edef": {
          "model_module": "@jupyter-widgets/base",
          "model_name": "LayoutModel",
          "state": {
            "_view_name": "LayoutView",
            "grid_template_rows": null,
            "right": null,
            "justify_content": null,
            "_view_module": "@jupyter-widgets/base",
            "overflow": null,
            "_model_module_version": "1.2.0",
            "_view_count": null,
            "flex_flow": null,
            "width": null,
            "min_width": null,
            "border": null,
            "align_items": null,
            "bottom": null,
            "_model_module": "@jupyter-widgets/base",
            "top": null,
            "grid_column": null,
            "overflow_y": null,
            "overflow_x": null,
            "grid_auto_flow": null,
            "grid_area": null,
            "grid_template_columns": null,
            "flex": null,
            "_model_name": "LayoutModel",
            "justify_items": null,
            "grid_row": null,
            "max_height": null,
            "align_content": null,
            "visibility": null,
            "align_self": null,
            "height": null,
            "min_height": null,
            "padding": null,
            "grid_auto_rows": null,
            "grid_gap": null,
            "max_width": null,
            "order": null,
            "_view_module_version": "1.2.0",
            "grid_template_areas": null,
            "object_position": null,
            "object_fit": null,
            "grid_auto_columns": null,
            "margin": null,
            "display": null,
            "left": null
          }
        },
        "c3817db490c04da9a9d2ab68ab1f7060": {
          "model_module": "@jupyter-widgets/controls",
          "model_name": "FloatProgressModel",
          "state": {
            "_view_name": "ProgressView",
            "style": "IPY_MODEL_2a407c37ad614a618ddef3e0dbcb4c4f",
            "_dom_classes": [],
            "description": "100%",
            "_model_name": "FloatProgressModel",
            "bar_style": "success",
            "max": 5,
            "_view_module": "@jupyter-widgets/controls",
            "_model_module_version": "1.5.0",
            "value": 5,
            "_view_count": null,
            "_view_module_version": "1.5.0",
            "orientation": "horizontal",
            "min": 0,
            "description_tooltip": null,
            "_model_module": "@jupyter-widgets/controls",
            "layout": "IPY_MODEL_7b1ebcef0ba04120a98befa932f25078"
          }
        },
        "4c247988c42f4a5c84e717d73927b9ce": {
          "model_module": "@jupyter-widgets/controls",
          "model_name": "HTMLModel",
          "state": {
            "_view_name": "HTMLView",
            "style": "IPY_MODEL_053b21e48a6348ff9651d4ea606d427c",
            "_dom_classes": [],
            "description": "",
            "_model_name": "HTMLModel",
            "placeholder": "​",
            "_view_module": "@jupyter-widgets/controls",
            "_model_module_version": "1.5.0",
            "value": " 5/5 [08:41&lt;00:00, 104.29s/it]",
            "_view_count": null,
            "_view_module_version": "1.5.0",
            "description_tooltip": null,
            "_model_module": "@jupyter-widgets/controls",
            "layout": "IPY_MODEL_78208d7503de4b44bf729382a99b2195"
          }
        },
        "2a407c37ad614a618ddef3e0dbcb4c4f": {
          "model_module": "@jupyter-widgets/controls",
          "model_name": "ProgressStyleModel",
          "state": {
            "_view_name": "StyleView",
            "_model_name": "ProgressStyleModel",
            "description_width": "initial",
            "_view_module": "@jupyter-widgets/base",
            "_model_module_version": "1.5.0",
            "_view_count": null,
            "_view_module_version": "1.2.0",
            "bar_color": null,
            "_model_module": "@jupyter-widgets/controls"
          }
        },
        "7b1ebcef0ba04120a98befa932f25078": {
          "model_module": "@jupyter-widgets/base",
          "model_name": "LayoutModel",
          "state": {
            "_view_name": "LayoutView",
            "grid_template_rows": null,
            "right": null,
            "justify_content": null,
            "_view_module": "@jupyter-widgets/base",
            "overflow": null,
            "_model_module_version": "1.2.0",
            "_view_count": null,
            "flex_flow": null,
            "width": null,
            "min_width": null,
            "border": null,
            "align_items": null,
            "bottom": null,
            "_model_module": "@jupyter-widgets/base",
            "top": null,
            "grid_column": null,
            "overflow_y": null,
            "overflow_x": null,
            "grid_auto_flow": null,
            "grid_area": null,
            "grid_template_columns": null,
            "flex": null,
            "_model_name": "LayoutModel",
            "justify_items": null,
            "grid_row": null,
            "max_height": null,
            "align_content": null,
            "visibility": null,
            "align_self": null,
            "height": null,
            "min_height": null,
            "padding": null,
            "grid_auto_rows": null,
            "grid_gap": null,
            "max_width": null,
            "order": null,
            "_view_module_version": "1.2.0",
            "grid_template_areas": null,
            "object_position": null,
            "object_fit": null,
            "grid_auto_columns": null,
            "margin": null,
            "display": null,
            "left": null
          }
        },
        "053b21e48a6348ff9651d4ea606d427c": {
          "model_module": "@jupyter-widgets/controls",
          "model_name": "DescriptionStyleModel",
          "state": {
            "_view_name": "StyleView",
            "_model_name": "DescriptionStyleModel",
            "description_width": "",
            "_view_module": "@jupyter-widgets/base",
            "_model_module_version": "1.5.0",
            "_view_count": null,
            "_view_module_version": "1.2.0",
            "_model_module": "@jupyter-widgets/controls"
          }
        },
        "78208d7503de4b44bf729382a99b2195": {
          "model_module": "@jupyter-widgets/base",
          "model_name": "LayoutModel",
          "state": {
            "_view_name": "LayoutView",
            "grid_template_rows": null,
            "right": null,
            "justify_content": null,
            "_view_module": "@jupyter-widgets/base",
            "overflow": null,
            "_model_module_version": "1.2.0",
            "_view_count": null,
            "flex_flow": null,
            "width": null,
            "min_width": null,
            "border": null,
            "align_items": null,
            "bottom": null,
            "_model_module": "@jupyter-widgets/base",
            "top": null,
            "grid_column": null,
            "overflow_y": null,
            "overflow_x": null,
            "grid_auto_flow": null,
            "grid_area": null,
            "grid_template_columns": null,
            "flex": null,
            "_model_name": "LayoutModel",
            "justify_items": null,
            "grid_row": null,
            "max_height": null,
            "align_content": null,
            "visibility": null,
            "align_self": null,
            "height": null,
            "min_height": null,
            "padding": null,
            "grid_auto_rows": null,
            "grid_gap": null,
            "max_width": null,
            "order": null,
            "_view_module_version": "1.2.0",
            "grid_template_areas": null,
            "object_position": null,
            "object_fit": null,
            "grid_auto_columns": null,
            "margin": null,
            "display": null,
            "left": null
          }
        }
      }
    }
  },
  "cells": [
    {
      "cell_type": "markdown",
      "metadata": {
        "id": "xl9mxRf-5dtO"
      },
      "source": [
        "#Specs"
      ]
    },
    {
      "cell_type": "code",
      "metadata": {
        "id": "tfYZskV5SwIo",
        "colab": {
          "base_uri": "https://localhost:8080/"
        },
        "outputId": "e78223aa-1d76-4167-9f31-e73891252769"
      },
      "source": [
        "!nvidia-smi"
      ],
      "execution_count": null,
      "outputs": [
        {
          "output_type": "stream",
          "text": [
            "Thu Dec 24 19:49:18 2020       \n",
            "+-----------------------------------------------------------------------------+\n",
            "| NVIDIA-SMI 460.27.04    Driver Version: 418.67       CUDA Version: 10.1     |\n",
            "|-------------------------------+----------------------+----------------------+\n",
            "| GPU  Name        Persistence-M| Bus-Id        Disp.A | Volatile Uncorr. ECC |\n",
            "| Fan  Temp  Perf  Pwr:Usage/Cap|         Memory-Usage | GPU-Util  Compute M. |\n",
            "|                               |                      |               MIG M. |\n",
            "|===============================+======================+======================|\n",
            "|   0  Tesla T4            Off  | 00000000:00:04.0 Off |                    0 |\n",
            "| N/A   37C    P8     9W /  70W |      0MiB / 15079MiB |      0%      Default |\n",
            "|                               |                      |                 ERR! |\n",
            "+-------------------------------+----------------------+----------------------+\n",
            "                                                                               \n",
            "+-----------------------------------------------------------------------------+\n",
            "| Processes:                                                                  |\n",
            "|  GPU   GI   CI        PID   Type   Process name                  GPU Memory |\n",
            "|        ID   ID                                                   Usage      |\n",
            "|=============================================================================|\n",
            "|  No running processes found                                                 |\n",
            "+-----------------------------------------------------------------------------+\n"
          ],
          "name": "stdout"
        }
      ]
    },
    {
      "cell_type": "markdown",
      "metadata": {
        "id": "Rcv11dB4LEvh"
      },
      "source": [
        "#Install"
      ]
    },
    {
      "cell_type": "code",
      "metadata": {
        "id": "Td_ChnVXLlbv",
        "colab": {
          "base_uri": "https://localhost:8080/"
        },
        "outputId": "6f5db580-d86b-4e17-ca4f-e2b3ff8cc7b1"
      },
      "source": [
        "!pip install transformers torchcontrib catalyst -q"
      ],
      "execution_count": null,
      "outputs": [
        {
          "output_type": "stream",
          "text": [
            "\u001b[K     |████████████████████████████████| 1.5MB 8.0MB/s \n",
            "\u001b[K     |████████████████████████████████| 491kB 30.3MB/s \n",
            "\u001b[K     |████████████████████████████████| 2.9MB 41.8MB/s \n",
            "\u001b[K     |████████████████████████████████| 890kB 62.3MB/s \n",
            "\u001b[K     |████████████████████████████████| 317kB 57.1MB/s \n",
            "\u001b[?25h  Building wheel for torchcontrib (setup.py) ... \u001b[?25l\u001b[?25hdone\n",
            "  Building wheel for sacremoses (setup.py) ... \u001b[?25l\u001b[?25hdone\n"
          ],
          "name": "stdout"
        }
      ]
    },
    {
      "cell_type": "markdown",
      "metadata": {
        "id": "rBaG1N9HLHvL"
      },
      "source": [
        "#Imports"
      ]
    },
    {
      "cell_type": "code",
      "metadata": {
        "id": "cRxoHDgvT1Nr"
      },
      "source": [
        "import warnings\n",
        "warnings.simplefilter('ignore')"
      ],
      "execution_count": null,
      "outputs": []
    },
    {
      "cell_type": "code",
      "metadata": {
        "id": "xn-JwPUXK4by"
      },
      "source": [
        "import os, sys, gc\n",
        "import time\n",
        "import string\n",
        "import subprocess\n",
        "import numpy as np\n",
        "import pandas as pd"
      ],
      "execution_count": null,
      "outputs": []
    },
    {
      "cell_type": "code",
      "metadata": {
        "id": "9nV845gztw5d"
      },
      "source": [
        "from tqdm.notebook import tqdm"
      ],
      "execution_count": null,
      "outputs": []
    },
    {
      "cell_type": "code",
      "metadata": {
        "id": "YMsrz5JmS5wW"
      },
      "source": [
        "from sklearn.model_selection import KFold, StratifiedKFold, train_test_split\n",
        "from sklearn.metrics import log_loss, f1_score, accuracy_score\n",
        "from sklearn.metrics import classification_report"
      ],
      "execution_count": null,
      "outputs": []
    },
    {
      "cell_type": "code",
      "metadata": {
        "id": "K8Noxw5SLAPW"
      },
      "source": [
        "import torch\n",
        "import torch.nn as nn\n",
        "from torch.optim import Adam\n",
        "import torch.nn.functional as F\n",
        "from torch.utils.data import Dataset, DataLoader"
      ],
      "execution_count": null,
      "outputs": []
    },
    {
      "cell_type": "code",
      "metadata": {
        "id": "z8YRqHdcyyiE"
      },
      "source": [
        "import transformers\n",
        "from transformers import AutoConfig, AutoTokenizer"
      ],
      "execution_count": null,
      "outputs": []
    },
    {
      "cell_type": "code",
      "metadata": {
        "id": "3LoIfiGWrvh2"
      },
      "source": [
        "from nlp.all import *"
      ],
      "execution_count": null,
      "outputs": []
    },
    {
      "cell_type": "markdown",
      "metadata": {
        "id": "twspBWOgMkl6"
      },
      "source": [
        "#Envs"
      ]
    },
    {
      "cell_type": "code",
      "metadata": {
        "id": "lkxqndHMMmsJ"
      },
      "source": [
        "seed = 1999\n",
        "seeds = [42, 5, 2021]\n",
        "n_folds = 5\n",
        "model_name = 'roberta-base'\n",
        "config_name = model_name\n",
        "tok_name = model_name\n",
        "dirs = ['models/', f'evals/{model_name}']\n",
        "exts = ['.csv', '.pkl']"
      ],
      "execution_count": null,
      "outputs": []
    },
    {
      "cell_type": "code",
      "metadata": {
        "id": "0JOyd7t69uKz",
        "colab": {
          "base_uri": "https://localhost:8080/"
        },
        "outputId": "78ad30e4-0fb3-4baf-86a2-1acf88d7c937"
      },
      "source": [
        "wm = WorkplaceManager(seed, dirs, exts, n_folds)"
      ],
      "execution_count": null,
      "outputs": [
        {
          "output_type": "stream",
          "text": [
            "Set seed to 1999.\n",
            "Created models/ evals/roberta-base submissions/\n"
          ],
          "name": "stdout"
        }
      ]
    },
    {
      "cell_type": "markdown",
      "metadata": {
        "id": "8yWBHsRJOw11"
      },
      "source": [
        "#Tokenizer"
      ]
    },
    {
      "cell_type": "code",
      "metadata": {
        "id": "RVYqlZxPO3Nh"
      },
      "source": [
        "config = AutoConfig.from_pretrained(config_name)\n",
        "tokenizer = AutoTokenizer.from_pretrained(tok_name, config=config)"
      ],
      "execution_count": null,
      "outputs": []
    },
    {
      "cell_type": "markdown",
      "metadata": {
        "id": "QRcYdgdALv11"
      },
      "source": [
        "#Data"
      ]
    },
    {
      "cell_type": "code",
      "metadata": {
        "id": "SwO35-NAMATo"
      },
      "source": [
        "path = 'data/'"
      ],
      "execution_count": null,
      "outputs": []
    },
    {
      "cell_type": "code",
      "metadata": {
        "id": "JpA0m0QOLvDc"
      },
      "source": [
        "train = pd.read_csv(path+'Train.csv')\n",
        "test = pd.read_csv(path+'Test.csv')\n",
        "sample = pd.read_csv(path+'SampleSubmission.csv')"
      ],
      "execution_count": null,
      "outputs": []
    },
    {
      "cell_type": "code",
      "metadata": {
        "id": "1go_wCAowMGL",
        "colab": {
          "base_uri": "https://localhost:8080/"
        },
        "outputId": "3e40276e-8d97-410d-8cd4-c2c62d4872cf"
      },
      "source": [
        "train.shape"
      ],
      "execution_count": null,
      "outputs": [
        {
          "output_type": "execute_result",
          "data": {
            "text/plain": [
              "(70000, 3)"
            ]
          },
          "metadata": {
            "tags": []
          },
          "execution_count": 15
        }
      ]
    },
    {
      "cell_type": "code",
      "metadata": {
        "id": "ocXUMbNJMSfo",
        "colab": {
          "base_uri": "https://localhost:8080/"
        },
        "outputId": "cc3ae290-fbeb-4040-ed62-c70915d4d2b0"
      },
      "source": [
        "train.head()"
      ],
      "execution_count": null,
      "outputs": [
        {
          "output_type": "execute_result",
          "data": {
            "text/html": [
              "<div>\n",
              "<style scoped>\n",
              "    .dataframe tbody tr th:only-of-type {\n",
              "        vertical-align: middle;\n",
              "    }\n",
              "\n",
              "    .dataframe tbody tr th {\n",
              "        vertical-align: top;\n",
              "    }\n",
              "\n",
              "    .dataframe thead th {\n",
              "        text-align: right;\n",
              "    }\n",
              "</style>\n",
              "<table border=\"1\" class=\"dataframe\">\n",
              "  <thead>\n",
              "    <tr style=\"text-align: right;\">\n",
              "      <th></th>\n",
              "      <th>ID</th>\n",
              "      <th>text</th>\n",
              "      <th>label</th>\n",
              "    </tr>\n",
              "  </thead>\n",
              "  <tbody>\n",
              "    <tr>\n",
              "      <th>0</th>\n",
              "      <td>13P0QT0</td>\n",
              "      <td>3sbaaaaaaaaaaaaaaaaaaaa lek ou le seim riahi o...</td>\n",
              "      <td>-1</td>\n",
              "    </tr>\n",
              "    <tr>\n",
              "      <th>1</th>\n",
              "      <td>SKCLXCJ</td>\n",
              "      <td>cha3eb fey9elkoum menghir ta7ayoul ou kressi</td>\n",
              "      <td>-1</td>\n",
              "    </tr>\n",
              "    <tr>\n",
              "      <th>2</th>\n",
              "      <td>V1TVXIJ</td>\n",
              "      <td>bereau degage nathef ya slim walahi ya7chiw fi...</td>\n",
              "      <td>-1</td>\n",
              "    </tr>\n",
              "    <tr>\n",
              "      <th>3</th>\n",
              "      <td>U0TTYY8</td>\n",
              "      <td>ak slouma</td>\n",
              "      <td>1</td>\n",
              "    </tr>\n",
              "    <tr>\n",
              "      <th>4</th>\n",
              "      <td>68DX797</td>\n",
              "      <td>entom titmanou lina a7na 3iid moubarik a7na ch...</td>\n",
              "      <td>-1</td>\n",
              "    </tr>\n",
              "  </tbody>\n",
              "</table>\n",
              "</div>"
            ],
            "text/plain": [
              "        ID                                               text  label\n",
              "0  13P0QT0  3sbaaaaaaaaaaaaaaaaaaaa lek ou le seim riahi o...     -1\n",
              "1  SKCLXCJ       cha3eb fey9elkoum menghir ta7ayoul ou kressi     -1\n",
              "2  V1TVXIJ  bereau degage nathef ya slim walahi ya7chiw fi...     -1\n",
              "3  U0TTYY8                                          ak slouma      1\n",
              "4  68DX797  entom titmanou lina a7na 3iid moubarik a7na ch...     -1"
            ]
          },
          "metadata": {
            "tags": []
          },
          "execution_count": 16
        }
      ]
    },
    {
      "cell_type": "code",
      "metadata": {
        "id": "BgKqO3PQpwjf"
      },
      "source": [
        "train['length'] = train['text'].apply(lambda x: len(tokenizer.encode(x)))\n",
        "test['length'] = test['text'].apply(lambda x: len(tokenizer.encode(x)))"
      ],
      "execution_count": null,
      "outputs": []
    },
    {
      "cell_type": "code",
      "metadata": {
        "id": "k5rfYl_-RwQK",
        "colab": {
          "base_uri": "https://localhost:8080/"
        },
        "outputId": "0cef0982-64af-4f9a-bb57-815f6c11c446"
      },
      "source": [
        "train.head()"
      ],
      "execution_count": null,
      "outputs": [
        {
          "output_type": "execute_result",
          "data": {
            "text/html": [
              "<div>\n",
              "<style scoped>\n",
              "    .dataframe tbody tr th:only-of-type {\n",
              "        vertical-align: middle;\n",
              "    }\n",
              "\n",
              "    .dataframe tbody tr th {\n",
              "        vertical-align: top;\n",
              "    }\n",
              "\n",
              "    .dataframe thead th {\n",
              "        text-align: right;\n",
              "    }\n",
              "</style>\n",
              "<table border=\"1\" class=\"dataframe\">\n",
              "  <thead>\n",
              "    <tr style=\"text-align: right;\">\n",
              "      <th></th>\n",
              "      <th>ID</th>\n",
              "      <th>text</th>\n",
              "      <th>label</th>\n",
              "      <th>length</th>\n",
              "    </tr>\n",
              "  </thead>\n",
              "  <tbody>\n",
              "    <tr>\n",
              "      <th>0</th>\n",
              "      <td>13P0QT0</td>\n",
              "      <td>3sbaaaaaaaaaaaaaaaaaaaa lek ou le seim riahi o...</td>\n",
              "      <td>-1</td>\n",
              "      <td>34</td>\n",
              "    </tr>\n",
              "    <tr>\n",
              "      <th>1</th>\n",
              "      <td>SKCLXCJ</td>\n",
              "      <td>cha3eb fey9elkoum menghir ta7ayoul ou kressi</td>\n",
              "      <td>-1</td>\n",
              "      <td>24</td>\n",
              "    </tr>\n",
              "    <tr>\n",
              "      <th>2</th>\n",
              "      <td>V1TVXIJ</td>\n",
              "      <td>bereau degage nathef ya slim walahi ya7chiw fi...</td>\n",
              "      <td>-1</td>\n",
              "      <td>164</td>\n",
              "    </tr>\n",
              "    <tr>\n",
              "      <th>3</th>\n",
              "      <td>U0TTYY8</td>\n",
              "      <td>ak slouma</td>\n",
              "      <td>1</td>\n",
              "      <td>6</td>\n",
              "    </tr>\n",
              "    <tr>\n",
              "      <th>4</th>\n",
              "      <td>68DX797</td>\n",
              "      <td>entom titmanou lina a7na 3iid moubarik a7na ch...</td>\n",
              "      <td>-1</td>\n",
              "      <td>59</td>\n",
              "    </tr>\n",
              "  </tbody>\n",
              "</table>\n",
              "</div>"
            ],
            "text/plain": [
              "        ID                                               text  label  length\n",
              "0  13P0QT0  3sbaaaaaaaaaaaaaaaaaaaa lek ou le seim riahi o...     -1      34\n",
              "1  SKCLXCJ       cha3eb fey9elkoum menghir ta7ayoul ou kressi     -1      24\n",
              "2  V1TVXIJ  bereau degage nathef ya slim walahi ya7chiw fi...     -1     164\n",
              "3  U0TTYY8                                          ak slouma      1       6\n",
              "4  68DX797  entom titmanou lina a7na 3iid moubarik a7na ch...     -1      59"
            ]
          },
          "metadata": {
            "tags": []
          },
          "execution_count": 18
        }
      ]
    },
    {
      "cell_type": "code",
      "metadata": {
        "id": "yl3oCXZJ7r58"
      },
      "source": [
        "train['target'] = train['label'].values\n",
        "train['label'] += 1"
      ],
      "execution_count": null,
      "outputs": []
    },
    {
      "cell_type": "code",
      "metadata": {
        "id": "23VJvoPqwTcN",
        "colab": {
          "base_uri": "https://localhost:8080/"
        },
        "outputId": "4737fc29-34b3-4f84-9959-6b48245d526a"
      },
      "source": [
        "train.label.value_counts(normalize=True)"
      ],
      "execution_count": null,
      "outputs": [
        {
          "output_type": "execute_result",
          "data": {
            "text/plain": [
              "2    0.546271\n",
              "0    0.418500\n",
              "1    0.035229\n",
              "Name: label, dtype: float64"
            ]
          },
          "metadata": {
            "tags": []
          },
          "execution_count": 20
        }
      ]
    },
    {
      "cell_type": "markdown",
      "metadata": {
        "id": "Ezi5pDAuG70q"
      },
      "source": [
        "#Split in folds"
      ]
    },
    {
      "cell_type": "code",
      "metadata": {
        "id": "C9mSohHQHn8H",
        "colab": {
          "base_uri": "https://localhost:8080/"
        },
        "outputId": "91beaee8-7aab-4804-fee3-4216a206b7d9"
      },
      "source": [
        "train.head()"
      ],
      "execution_count": null,
      "outputs": [
        {
          "output_type": "execute_result",
          "data": {
            "text/html": [
              "<div>\n",
              "<style scoped>\n",
              "    .dataframe tbody tr th:only-of-type {\n",
              "        vertical-align: middle;\n",
              "    }\n",
              "\n",
              "    .dataframe tbody tr th {\n",
              "        vertical-align: top;\n",
              "    }\n",
              "\n",
              "    .dataframe thead th {\n",
              "        text-align: right;\n",
              "    }\n",
              "</style>\n",
              "<table border=\"1\" class=\"dataframe\">\n",
              "  <thead>\n",
              "    <tr style=\"text-align: right;\">\n",
              "      <th></th>\n",
              "      <th>ID</th>\n",
              "      <th>text</th>\n",
              "      <th>label</th>\n",
              "      <th>length</th>\n",
              "      <th>target</th>\n",
              "    </tr>\n",
              "  </thead>\n",
              "  <tbody>\n",
              "    <tr>\n",
              "      <th>0</th>\n",
              "      <td>13P0QT0</td>\n",
              "      <td>3sbaaaaaaaaaaaaaaaaaaaa lek ou le seim riahi o...</td>\n",
              "      <td>0</td>\n",
              "      <td>34</td>\n",
              "      <td>-1</td>\n",
              "    </tr>\n",
              "    <tr>\n",
              "      <th>1</th>\n",
              "      <td>SKCLXCJ</td>\n",
              "      <td>cha3eb fey9elkoum menghir ta7ayoul ou kressi</td>\n",
              "      <td>0</td>\n",
              "      <td>24</td>\n",
              "      <td>-1</td>\n",
              "    </tr>\n",
              "    <tr>\n",
              "      <th>2</th>\n",
              "      <td>V1TVXIJ</td>\n",
              "      <td>bereau degage nathef ya slim walahi ya7chiw fi...</td>\n",
              "      <td>0</td>\n",
              "      <td>164</td>\n",
              "      <td>-1</td>\n",
              "    </tr>\n",
              "    <tr>\n",
              "      <th>3</th>\n",
              "      <td>U0TTYY8</td>\n",
              "      <td>ak slouma</td>\n",
              "      <td>2</td>\n",
              "      <td>6</td>\n",
              "      <td>1</td>\n",
              "    </tr>\n",
              "    <tr>\n",
              "      <th>4</th>\n",
              "      <td>68DX797</td>\n",
              "      <td>entom titmanou lina a7na 3iid moubarik a7na ch...</td>\n",
              "      <td>0</td>\n",
              "      <td>59</td>\n",
              "      <td>-1</td>\n",
              "    </tr>\n",
              "  </tbody>\n",
              "</table>\n",
              "</div>"
            ],
            "text/plain": [
              "        ID                                               text  ...  length  target\n",
              "0  13P0QT0  3sbaaaaaaaaaaaaaaaaaaaa lek ou le seim riahi o...  ...      34      -1\n",
              "1  SKCLXCJ       cha3eb fey9elkoum menghir ta7ayoul ou kressi  ...      24      -1\n",
              "2  V1TVXIJ  bereau degage nathef ya slim walahi ya7chiw fi...  ...     164      -1\n",
              "3  U0TTYY8                                          ak slouma  ...       6       1\n",
              "4  68DX797  entom titmanou lina a7na 3iid moubarik a7na ch...  ...      59      -1\n",
              "\n",
              "[5 rows x 5 columns]"
            ]
          },
          "metadata": {
            "tags": []
          },
          "execution_count": 21
        }
      ]
    },
    {
      "cell_type": "code",
      "metadata": {
        "id": "QHfVUDl8G_Rd"
      },
      "source": [
        "kf = StratifiedKFold(n_folds)\n",
        "train['fold'] = 0\n",
        "for fold, (tr_index, val_index) in enumerate(kf.split(train.index, train.label)):\n",
        "  train.loc[val_index, 'fold'] = fold"
      ],
      "execution_count": null,
      "outputs": []
    },
    {
      "cell_type": "code",
      "metadata": {
        "id": "-fSW5ekxH1bn",
        "colab": {
          "base_uri": "https://localhost:8080/"
        },
        "outputId": "aa594ee3-7058-4775-b270-749e8bcc004b"
      },
      "source": [
        "train.head()"
      ],
      "execution_count": null,
      "outputs": [
        {
          "output_type": "execute_result",
          "data": {
            "text/html": [
              "<div>\n",
              "<style scoped>\n",
              "    .dataframe tbody tr th:only-of-type {\n",
              "        vertical-align: middle;\n",
              "    }\n",
              "\n",
              "    .dataframe tbody tr th {\n",
              "        vertical-align: top;\n",
              "    }\n",
              "\n",
              "    .dataframe thead th {\n",
              "        text-align: right;\n",
              "    }\n",
              "</style>\n",
              "<table border=\"1\" class=\"dataframe\">\n",
              "  <thead>\n",
              "    <tr style=\"text-align: right;\">\n",
              "      <th></th>\n",
              "      <th>ID</th>\n",
              "      <th>text</th>\n",
              "      <th>label</th>\n",
              "      <th>length</th>\n",
              "      <th>target</th>\n",
              "      <th>fold</th>\n",
              "    </tr>\n",
              "  </thead>\n",
              "  <tbody>\n",
              "    <tr>\n",
              "      <th>0</th>\n",
              "      <td>13P0QT0</td>\n",
              "      <td>3sbaaaaaaaaaaaaaaaaaaaa lek ou le seim riahi o...</td>\n",
              "      <td>0</td>\n",
              "      <td>34</td>\n",
              "      <td>-1</td>\n",
              "      <td>0</td>\n",
              "    </tr>\n",
              "    <tr>\n",
              "      <th>1</th>\n",
              "      <td>SKCLXCJ</td>\n",
              "      <td>cha3eb fey9elkoum menghir ta7ayoul ou kressi</td>\n",
              "      <td>0</td>\n",
              "      <td>24</td>\n",
              "      <td>-1</td>\n",
              "      <td>0</td>\n",
              "    </tr>\n",
              "    <tr>\n",
              "      <th>2</th>\n",
              "      <td>V1TVXIJ</td>\n",
              "      <td>bereau degage nathef ya slim walahi ya7chiw fi...</td>\n",
              "      <td>0</td>\n",
              "      <td>164</td>\n",
              "      <td>-1</td>\n",
              "      <td>0</td>\n",
              "    </tr>\n",
              "    <tr>\n",
              "      <th>3</th>\n",
              "      <td>U0TTYY8</td>\n",
              "      <td>ak slouma</td>\n",
              "      <td>2</td>\n",
              "      <td>6</td>\n",
              "      <td>1</td>\n",
              "      <td>0</td>\n",
              "    </tr>\n",
              "    <tr>\n",
              "      <th>4</th>\n",
              "      <td>68DX797</td>\n",
              "      <td>entom titmanou lina a7na 3iid moubarik a7na ch...</td>\n",
              "      <td>0</td>\n",
              "      <td>59</td>\n",
              "      <td>-1</td>\n",
              "      <td>0</td>\n",
              "    </tr>\n",
              "  </tbody>\n",
              "</table>\n",
              "</div>"
            ],
            "text/plain": [
              "        ID                                               text  ...  target  fold\n",
              "0  13P0QT0  3sbaaaaaaaaaaaaaaaaaaaa lek ou le seim riahi o...  ...      -1     0\n",
              "1  SKCLXCJ       cha3eb fey9elkoum menghir ta7ayoul ou kressi  ...      -1     0\n",
              "2  V1TVXIJ  bereau degage nathef ya slim walahi ya7chiw fi...  ...      -1     0\n",
              "3  U0TTYY8                                          ak slouma  ...       1     0\n",
              "4  68DX797  entom titmanou lina a7na 3iid moubarik a7na ch...  ...      -1     0\n",
              "\n",
              "[5 rows x 6 columns]"
            ]
          },
          "metadata": {
            "tags": []
          },
          "execution_count": 23
        }
      ]
    },
    {
      "cell_type": "markdown",
      "metadata": {
        "id": "RqboeokFM5Hd"
      },
      "source": [
        "#Utilities"
      ]
    },
    {
      "cell_type": "code",
      "metadata": {
        "id": "9FqSg9hu7qHA"
      },
      "source": [
        "class GlobalConfig:\n",
        "  id = 0\n",
        "  task = 'train'\n",
        "\n",
        "  accumulate_grad_batches = 1\n",
        "  activation = torch.softmax\n",
        "  batch_size = 64\n",
        "  warmup_steps = 0\n",
        "\n",
        "  finetune_epochs = 2\n",
        "  epochs = 3\n",
        "  folds = n_folds\n",
        "\n",
        "  low_dropout = 0.1\n",
        "  high_dropout = 0.1\n",
        "  \n",
        "  loss = Loss('ce')\n",
        "  loss_name = 'ce'\n",
        "  metric_name = 'Acc'\n",
        "  \n",
        "  lr = 5e-5\n",
        "  head_lr = 1e-3\n",
        "  scheduler = False\n",
        "  swa = False\n",
        "  swa_start = 4\n",
        "  swa_freq = 1\n",
        "  swa_lr = 3e-5\n",
        "\n",
        "  clip_grad = False\n",
        "  max_grad_norm = 1.0\n",
        "  max_tokens = 50\n",
        "  on_batch = True\n",
        "\n",
        "  model_name = model_name\n",
        "  config_name = config_name\n",
        "  pretrained = True\n",
        "\n",
        "  n_classes = 3\n",
        "\n",
        "  def __init__(self, xp_nb=1):\n",
        "    self.xp_nb = xp_nb\n",
        "    self._reset()\n",
        "\n",
        "  def update(self, **kwargs):\n",
        "    for name in kwargs.keys():\n",
        "      if hasattr(self, name):\n",
        "        setattr(self, name, kwargs[name])\n",
        "\n",
        "  def _reset(self):\n",
        "    self.fold = 0\n",
        "    self.train_df = None\n",
        "    self.test_df = None\n",
        "    self.val_df = None\n",
        "\n",
        "  def save(self, path=''):\n",
        "    self._reset()\n",
        "    self._name()\n",
        "    \n",
        "    with open(path+self.name, 'wb') as f:\n",
        "      pickle.dump(self, f)\n",
        "\n",
        "  def _name(self):\n",
        "    n = ''\n",
        "    if not hasattr(self, 'name'):\n",
        "      vocab = string.ascii_letters + string.digits\n",
        "      for i in range(self.xp_nb):\n",
        "        n = ''\n",
        "        for _ in range(10):\n",
        "          n += vocab[random.randint(0, len(vocab)-1)]\n",
        "\n",
        "      self.name = n+'.pkl'\n",
        "    print(self.name)"
      ],
      "execution_count": null,
      "outputs": []
    },
    {
      "cell_type": "code",
      "metadata": {
        "id": "gQoBo_RHqyl0"
      },
      "source": [
        "def run_fold(score_pkl='cv_score.pkl'):\n",
        "  torch.cuda.empty_cache()\n",
        "  \n",
        "  fold_scores = []\n",
        "  print_dict_list = {}\n",
        "\n",
        "  try:\n",
        "    with open(score_pkl, 'rb') as f:\n",
        "      cv_score = pickle.load(f)\n",
        "      f.close()\n",
        "  except FileNotFoundError:\n",
        "    cv_score = 0\n",
        "\n",
        "  completed = len(os.listdir('models/'))\n",
        "\n",
        "  for fold in train.fold.unique():\n",
        "    if fold < completed: continue\n",
        "\n",
        "    print('Fold', fold)\n",
        "\n",
        "    df_train = train[train.fold != fold].copy()\n",
        "    df_val = train[train.fold == fold].copy()\n",
        "    print_dict_list[fold] = []\n",
        "    best_score = np.inf\n",
        "\n",
        "    global_config.update(\n",
        "      fold = fold,\n",
        "      train_df = df_train,\n",
        "      val_df = df_val,\n",
        "      test_df = pd.DataFrame()\n",
        "    )\n",
        "\n",
        "    trainer = Trainer(global_config)\n",
        "    es = EarlyStopping()\n",
        "\n",
        "    trainer.finetune()\n",
        "    trainer.fit()\n",
        "\n",
        "    trainer.save_best_eval()\n",
        "\n",
        "    cv_score += trainer.best_metric\n",
        "\n",
        "    os.system(f\"rm {score_pkl}\")\n",
        "    with open(score_pkl, 'wb') as f:\n",
        "      pickle.dump(cv_score, f)\n",
        "      f.close()\n",
        "\n",
        "    trainer = None\n",
        "    del trainer, df_train, df_val\n",
        "    gc.collect()"
      ],
      "execution_count": null,
      "outputs": []
    },
    {
      "cell_type": "code",
      "metadata": {
        "id": "OWHzNW1I__W9"
      },
      "source": [
        "def run_prediction(path='models/'):\n",
        "  torch.cuda.empty_cache()\n",
        "  \n",
        "  preds = []\n",
        "  global_config.update(\n",
        "      task='test',\n",
        "      train_df = test,\n",
        "      val_df = test,\n",
        "      test_df=test\n",
        "    )\n",
        "\n",
        "  for fold in tqdm(train.fold.unique()):\n",
        "\n",
        "    module = LightTrainingModule(global_config)\n",
        "    module.load_state_dict(torch.load(path+f'model_{fold}.bin'))\n",
        "    trainer = Trainer(global_config, module=module)\n",
        "    \n",
        "    trainer.predict()\n",
        "    pred = trainer.get_preds()\n",
        "\n",
        "    preds.append(pred)\n",
        "\n",
        "    module, trainer = None, None\n",
        "    del trainer, module\n",
        "    gc.collect()\n",
        "\n",
        "  return preds"
      ],
      "execution_count": null,
      "outputs": []
    },
    {
      "cell_type": "code",
      "metadata": {
        "id": "yLPeDd15te2v"
      },
      "source": [
        "def submit(preds_dict):\n",
        "  for name, preds in preds_dict.items():\n",
        "    submission = test[['ID']]\n",
        "    submission['label'] = outputs-1\n",
        "\n",
        "    submission.to_csv(spath+name, index=False)\n",
        "\n",
        "    print(f'[DONE] {name}')"
      ],
      "execution_count": null,
      "outputs": []
    },
    {
      "cell_type": "markdown",
      "metadata": {
        "id": "EaVoB-SZTWgP"
      },
      "source": [
        "#The Torch Way"
      ]
    },
    {
      "cell_type": "code",
      "metadata": {
        "id": "JQYEL0K2yA1O"
      },
      "source": [
        "global global_config\n",
        "global_config = GlobalConfig(3)"
      ],
      "execution_count": null,
      "outputs": []
    },
    {
      "cell_type": "markdown",
      "metadata": {
        "id": "kaa4cbSkxV0X"
      },
      "source": [
        "##Run folds"
      ]
    },
    {
      "cell_type": "code",
      "metadata": {
        "id": "OVX_mtR-3iTE",
        "colab": {
          "base_uri": "https://localhost:8080/"
        },
        "outputId": "39686da4-47ce-4b81-bb6c-9db00d94d59e"
      },
      "source": [
        "gc.collect()"
      ],
      "execution_count": null,
      "outputs": [
        {
          "output_type": "execute_result",
          "data": {
            "text/plain": [
              "196"
            ]
          },
          "metadata": {
            "tags": []
          },
          "execution_count": 30
        }
      ]
    },
    {
      "cell_type": "code",
      "metadata": {
        "id": "_OMQvEqPxakQ"
      },
      "source": [
        "%%time\n",
        "run_fold()"
      ],
      "execution_count": null,
      "outputs": []
    },
    {
      "cell_type": "markdown",
      "metadata": {
        "id": "Zgnmw0jpcPXB"
      },
      "source": [
        "# CrossVal Score"
      ]
    },
    {
      "cell_type": "code",
      "metadata": {
        "id": "fb_xRfV8cOuj"
      },
      "source": [
        "cvl = CrossValLogger(train, 'Acc', n_folds, path=f'evals/{model_name}/')"
      ],
      "execution_count": null,
      "outputs": []
    },
    {
      "cell_type": "code",
      "metadata": {
        "id": "1pHZqJCtchDW",
        "colab": {
          "base_uri": "https://localhost:8080/"
        },
        "outputId": "80433501-3a64-40b7-f7da-bcac76894f2c"
      },
      "source": [
        "score1, score2 = cvl.show_results(True)"
      ],
      "execution_count": null,
      "outputs": [
        {
          "output_type": "stream",
          "text": [
            "OOF_CV_SCORE: 0.81748 | OVR_SCORE: 0.81754\n"
          ],
          "name": "stdout"
        }
      ]
    },
    {
      "cell_type": "code",
      "metadata": {
        "id": "xSmGHS8iUdbo",
        "colab": {
          "base_uri": "https://localhost:8080/"
        },
        "outputId": "97fe7b2f-5e04-4f0b-9b3c-6e9c87d36478"
      },
      "source": [
        "gc.collect()"
      ],
      "execution_count": null,
      "outputs": [
        {
          "output_type": "execute_result",
          "data": {
            "text/plain": [
              "15"
            ]
          },
          "metadata": {
            "tags": []
          },
          "execution_count": 35
        }
      ]
    },
    {
      "cell_type": "markdown",
      "metadata": {
        "id": "-h6WFzoBTwh1"
      },
      "source": [
        "# Prediction"
      ]
    },
    {
      "cell_type": "code",
      "metadata": {
        "id": "4Apb1Sk8BXSZ",
        "colab": {
          "base_uri": "https://localhost:8080/",
          "height": 100,
          "referenced_widgets": [
            "bc6c7606b1924e1cb8b68108c0fcebba",
            "86f16456b9f5423caefae2d36f96edef",
            "c3817db490c04da9a9d2ab68ab1f7060",
            "4c247988c42f4a5c84e717d73927b9ce",
            "2a407c37ad614a618ddef3e0dbcb4c4f",
            "7b1ebcef0ba04120a98befa932f25078",
            "053b21e48a6348ff9651d4ea606d427c",
            "78208d7503de4b44bf729382a99b2195"
          ]
        },
        "outputId": "a36d5107-c0cc-4c9e-86d4-a9743e27c43a"
      },
      "source": [
        "%%time\n",
        "preds = run_prediction()"
      ],
      "execution_count": null,
      "outputs": [
        {
          "output_type": "display_data",
          "data": {
            "application/vnd.jupyter.widget-view+json": {
              "model_id": "bc6c7606b1924e1cb8b68108c0fcebba",
              "version_minor": 0,
              "version_major": 2
            },
            "text/plain": [
              "HBox(children=(FloatProgress(value=0.0, max=5.0), HTML(value='')))"
            ]
          },
          "metadata": {
            "tags": []
          }
        },
        {
          "output_type": "stream",
          "text": [
            "\n",
            "CPU times: user 4min 43s, sys: 2min 46s, total: 7min 29s\n",
            "Wall time: 8min 41s\n"
          ],
          "name": "stdout"
        }
      ]
    },
    {
      "cell_type": "code",
      "metadata": {
        "id": "jZ4yYyU1DU3X"
      },
      "source": [
        "raw_outputs = np.mean(preds, axis=0)\n",
        "outputs = np.argmax(raw_outputs, axis=1)"
      ],
      "execution_count": null,
      "outputs": []
    },
    {
      "cell_type": "markdown",
      "metadata": {
        "id": "N2uBSjeRmA5o"
      },
      "source": [
        "#Submission"
      ]
    },
    {
      "cell_type": "code",
      "metadata": {
        "id": "G-YL3cjt9LnV"
      },
      "source": [
        "spath = 'submissions/'\n",
        "wm.create_dir(spath)"
      ],
      "execution_count": null,
      "outputs": []
    },
    {
      "cell_type": "code",
      "metadata": {
        "id": "WfB6AfctlzVe",
        "colab": {
          "base_uri": "https://localhost:8080/"
        },
        "outputId": "a884d420-215b-4d01-9ef6-91e627d391ea"
      },
      "source": [
        "csv = '{}_{}'.format(model_name.split('/')[-1], '10WwJdQcXs')\n",
        "\n",
        "preds_dict = {\n",
        "    csv+'.csv': outputs,\n",
        "    csv+'_raw_outputs.csv': raw_outputs\n",
        "}\n",
        "\n",
        "submit(preds_dict)"
      ],
      "execution_count": null,
      "outputs": [
        {
          "output_type": "stream",
          "text": [
            "[DONE] roberta-base_10WwJdQcXs.pkl_0.81748-0.81754.csv\n",
            "[DONE] roberta-base_10WwJdQcXs.pkl_0.81748-0.81754_raw_outputs.csv\n"
          ],
          "name": "stdout"
        }
      ]
    },
    {
      "cell_type": "code",
      "metadata": {
        "id": "e1Ci2-ObtE4M"
      },
      "source": [
        "submission = pd.read_csv(spath+csv+'.csv')"
      ],
      "execution_count": null,
      "outputs": []
    },
    {
      "cell_type": "code",
      "metadata": {
        "id": "HxxWG57TmQ2m",
        "colab": {
          "base_uri": "https://localhost:8080/",
          "height": 204
        },
        "outputId": "1b7ce91b-98f7-4a91-8b28-aca6cba812e4"
      },
      "source": [
        "submission.head()"
      ],
      "execution_count": null,
      "outputs": [
        {
          "output_type": "execute_result",
          "data": {
            "text/html": [
              "<div>\n",
              "<style scoped>\n",
              "    .dataframe tbody tr th:only-of-type {\n",
              "        vertical-align: middle;\n",
              "    }\n",
              "\n",
              "    .dataframe tbody tr th {\n",
              "        vertical-align: top;\n",
              "    }\n",
              "\n",
              "    .dataframe thead th {\n",
              "        text-align: right;\n",
              "    }\n",
              "</style>\n",
              "<table border=\"1\" class=\"dataframe\">\n",
              "  <thead>\n",
              "    <tr style=\"text-align: right;\">\n",
              "      <th></th>\n",
              "      <th>ID</th>\n",
              "      <th>label</th>\n",
              "    </tr>\n",
              "  </thead>\n",
              "  <tbody>\n",
              "    <tr>\n",
              "      <th>0</th>\n",
              "      <td>2DDHQW9</td>\n",
              "      <td>-1</td>\n",
              "    </tr>\n",
              "    <tr>\n",
              "      <th>1</th>\n",
              "      <td>5HY6UEY</td>\n",
              "      <td>-1</td>\n",
              "    </tr>\n",
              "    <tr>\n",
              "      <th>2</th>\n",
              "      <td>ATNVUJX</td>\n",
              "      <td>1</td>\n",
              "    </tr>\n",
              "    <tr>\n",
              "      <th>3</th>\n",
              "      <td>Q9XYVOQ</td>\n",
              "      <td>-1</td>\n",
              "    </tr>\n",
              "    <tr>\n",
              "      <th>4</th>\n",
              "      <td>TOAHLRH</td>\n",
              "      <td>1</td>\n",
              "    </tr>\n",
              "  </tbody>\n",
              "</table>\n",
              "</div>"
            ],
            "text/plain": [
              "        ID  label\n",
              "0  2DDHQW9     -1\n",
              "1  5HY6UEY     -1\n",
              "2  ATNVUJX      1\n",
              "3  Q9XYVOQ     -1\n",
              "4  TOAHLRH      1"
            ]
          },
          "metadata": {
            "tags": []
          },
          "execution_count": 43
        }
      ]
    },
    {
      "cell_type": "code",
      "metadata": {
        "id": "VokQMXsLmTvC",
        "colab": {
          "base_uri": "https://localhost:8080/"
        },
        "outputId": "de2103eb-4dc1-40b5-d2d0-c61304268c65"
      },
      "source": [
        "submission.label.value_counts(normalize=True)"
      ],
      "execution_count": null,
      "outputs": [
        {
          "output_type": "execute_result",
          "data": {
            "text/plain": [
              "-1    0.502333\n",
              " 1    0.489000\n",
              " 0    0.008667\n",
              "Name: label, dtype: float64"
            ]
          },
          "metadata": {
            "tags": []
          },
          "execution_count": 44
        }
      ]
    },
    {
      "cell_type": "code",
      "metadata": {
        "id": "-Z5723DhqJ_R"
      },
      "source": [
        "wm.clear(['evals/', 'models/'])"
      ],
      "execution_count": null,
      "outputs": []
    }
  ]
}